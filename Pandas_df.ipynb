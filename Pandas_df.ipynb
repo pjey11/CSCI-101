{
 "cells": [
  {
   "cell_type": "code",
   "execution_count": 55,
   "id": "ad0c8bf7-375c-4b04-baba-9ec37255cb5d",
   "metadata": {},
   "outputs": [],
   "source": [
    "import pandas as pd"
   ]
  },
  {
   "cell_type": "code",
   "execution_count": 59,
   "id": "fa09a757-cad9-41d5-96ef-ff94c050dfb8",
   "metadata": {},
   "outputs": [
    {
     "name": "stdout",
     "output_type": "stream",
     "text": [
      "   Grades  Studytime\n",
      "0    90.5         40\n",
      "1   200.0         50\n",
      "2    75.8         35\n",
      "3    25.6         10\n"
     ]
    }
   ],
   "source": [
    "# Dataframe using 2 lists\n",
    "\n",
    "grades=[90.5, 200.0, 75.8,25.6]\n",
    "studytime=[40,50,35,10]\n",
    "\n",
    "df=pd.DataFrame(grades, columns=[\"Grades\"])\n",
    "df[\"Studytime\"]=studytime\n",
    "print(df)"
   ]
  },
  {
   "cell_type": "code",
   "execution_count": 60,
   "id": "bb171664-9a7c-43c0-9c69-4e776b1b4dbe",
   "metadata": {},
   "outputs": [
    {
     "name": "stdout",
     "output_type": "stream",
     "text": [
      "    students  grades\n",
      "ID1    Bruce      10\n",
      "ID2     Jane       9\n",
      "ID3    Nancy       9\n"
     ]
    }
   ],
   "source": [
    "# Dataframe from a Dictionary of Lists\n",
    "\n",
    "myclass={'students':['Bruce','Jane','Nancy'],\n",
    "'grades':[10,9,9]\n",
    "}\n",
    "df=pd.DataFrame(myclass, index=[\"ID1\",\"ID2\",\"ID3\"])\n",
    "print(df)"
   ]
  },
  {
   "cell_type": "code",
   "execution_count": 61,
   "id": "ea3aebe3-119e-4236-a1e2-9be057e04f74",
   "metadata": {},
   "outputs": [
    {
     "name": "stdout",
     "output_type": "stream",
     "text": [
      "        Item  Promotion  Price  Stock\n",
      "0  Chocolate      False   49.5    100\n",
      "1     Coffee       True   29.5    200\n",
      "2        Tea      False   30.5    300\n"
     ]
    }
   ],
   "source": [
    "#Dataframe from a Dictionary of lists\n",
    "myInventory={\n",
    "    \"Item\":[\"Chocolate\",\"Coffee\",\"Tea\"],\n",
    "    \"Promotion\":[False, True, False],\n",
    "    \"Price\":[49.5,29.5,30.5],\n",
    "    \"Stock\":[100,200,300]\n",
    "}\n",
    "\n",
    "ddf=pd.DataFrame(myInventory)\n",
    "print(ddf)"
   ]
  },
  {
   "cell_type": "code",
   "execution_count": null,
   "id": "dd729a12-0b57-4fc2-95f0-1ab5f2c6fb77",
   "metadata": {},
   "outputs": [],
   "source": [
    "df."
   ]
  },
  {
   "cell_type": "code",
   "execution_count": 62,
   "id": "715ffff7-ddc2-49bf-a76d-6b74b4674f14",
   "metadata": {},
   "outputs": [
    {
     "name": "stdout",
     "output_type": "stream",
     "text": [
      "     Easter  Melanie  Khya  Roger  Eric  Feroz\n",
      "ID1      10       30    20     10    30     20\n",
      "ID2      10       30    20     10    30     20\n",
      "ID3      10       30    20     10    30     20\n"
     ]
    }
   ],
   "source": [
    "# DataFrame from a Dictionary with index\n",
    "\n",
    "MyClass={'Easter':10, 'Melanie': 30, 'Khya':20, 'Roger':10, 'Eric': 30, 'Feroz':20}\n",
    "df=pd.DataFrame(MyClass, index=['ID1', 'ID2', 'ID3'])\n",
    "print(df)"
   ]
  },
  {
   "cell_type": "code",
   "execution_count": 63,
   "id": "6608504e-5b6d-470d-82e8-f43b11ac6e1e",
   "metadata": {},
   "outputs": [
    {
     "name": "stderr",
     "output_type": "stream",
     "text": [
      "C:\\Users\\prasa\\AppData\\Local\\Temp\\ipykernel_5272\\835610090.py:13: FutureWarning: Downcasting behavior in `replace` is deprecated and will be removed in a future version. To retain the old behavior, explicitly call `result.infer_objects(copy=False)`. To opt-in to the future behavior, set `pd.set_option('future.no_silent_downcasting', True)`\n",
      "  invDF=invDF.replace({'Promotion':{'no':False,\n"
     ]
    },
    {
     "data": {
      "text/html": [
       "<div>\n",
       "<style scoped>\n",
       "    .dataframe tbody tr th:only-of-type {\n",
       "        vertical-align: middle;\n",
       "    }\n",
       "\n",
       "    .dataframe tbody tr th {\n",
       "        vertical-align: top;\n",
       "    }\n",
       "\n",
       "    .dataframe thead th {\n",
       "        text-align: right;\n",
       "    }\n",
       "</style>\n",
       "<table border=\"1\" class=\"dataframe\">\n",
       "  <thead>\n",
       "    <tr style=\"text-align: right;\">\n",
       "      <th></th>\n",
       "      <th>Item</th>\n",
       "      <th>Promotion</th>\n",
       "      <th>Price</th>\n",
       "      <th>Stock</th>\n",
       "    </tr>\n",
       "  </thead>\n",
       "  <tbody>\n",
       "    <tr>\n",
       "      <th>0</th>\n",
       "      <td>Chocolate</td>\n",
       "      <td>False</td>\n",
       "      <td>49.5</td>\n",
       "      <td>100</td>\n",
       "    </tr>\n",
       "  </tbody>\n",
       "</table>\n",
       "</div>"
      ],
      "text/plain": [
       "        Item  Promotion  Price  Stock\n",
       "0  Chocolate      False   49.5    100"
      ]
     },
     "execution_count": 63,
     "metadata": {},
     "output_type": "execute_result"
    }
   ],
   "source": [
    "#Replacing values within a Dictionary\n",
    "\n",
    "myInventory={\n",
    "    \"Item\":[\"Chocolate\",\"Coffee\",\"Tea\"],\n",
    "    \"Promotion\":[\"no\", \"yes\", \"no\"],\n",
    "    \"Price\":[49.5,29.5,30.5],\n",
    "    \"Stock\":[100,200,300]\n",
    "}\n",
    "\n",
    "invDF=pd.DataFrame(myInventory)\n",
    "# print(invDF)\n",
    "\n",
    "invDF=invDF.replace({'Promotion':{'no':False,\n",
    "                                  'yes':True}})\n",
    "# print(invDF)\n",
    "invDF[invDF[\"Price\"]>40]"
   ]
  },
  {
   "cell_type": "code",
   "execution_count": 64,
   "id": "424a70ba-1c2e-4da3-95b5-f468ab1135fb",
   "metadata": {},
   "outputs": [
    {
     "data": {
      "text/plain": [
       "49.5"
      ]
     },
     "execution_count": 64,
     "metadata": {},
     "output_type": "execute_result"
    }
   ],
   "source": [
    "# Printing a DF value\n",
    "invDF.Price[0]"
   ]
  }
 ],
 "metadata": {
  "kernelspec": {
   "display_name": "Python [conda env:base] *",
   "language": "python",
   "name": "conda-base-py"
  },
  "language_info": {
   "codemirror_mode": {
    "name": "ipython",
    "version": 3
   },
   "file_extension": ".py",
   "mimetype": "text/x-python",
   "name": "python",
   "nbconvert_exporter": "python",
   "pygments_lexer": "ipython3",
   "version": "3.12.7"
  }
 },
 "nbformat": 4,
 "nbformat_minor": 5
}
